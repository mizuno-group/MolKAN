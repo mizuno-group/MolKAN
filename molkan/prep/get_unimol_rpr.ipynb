{
 "cells": [
  {
   "cell_type": "code",
   "execution_count": 1,
   "metadata": {},
   "outputs": [
    {
     "name": "stderr",
     "output_type": "stream",
     "text": [
      "2025-01-23 18:45:02 | unimol_tools/weights/weighthub.py | 17 | INFO | Uni-Mol Tools | Weights will be downloaded to default directory: /opt/pip-env/lib/python3.12/site-packages/unimol_tools/weights\n"
     ]
    }
   ],
   "source": [
    "import numpy as np\n",
    "import pandas as pd\n",
    "from rdkit import Chem\n",
    "from rdkit.Chem import AllChem\n",
    "import openbabel\n",
    "import unimol_tools\n",
    "import pickle\n",
    "import os"
   ]
  },
  {
   "cell_type": "markdown",
   "metadata": {},
   "source": [
    "## reflect latent_idx_dict to csv (delete latent_idx_dict!)"
   ]
  },
  {
   "cell_type": "code",
   "execution_count": 2,
   "metadata": {},
   "outputs": [],
   "source": [
    "with open(\"../data/latent/latent_idx_dic.pkl\", \"rb\") as f:\n",
    "    latent_idx_dic = pickle.load(f)"
   ]
  },
  {
   "cell_type": "code",
   "execution_count": 3,
   "metadata": {},
   "outputs": [
    {
     "name": "stdout",
     "output_type": "stream",
     "text": [
      "sider:  1426\n",
      "→  1384\n",
      "herg_karim:  13445\n",
      "→  13445\n",
      "tox21_M:  7831\n",
      "→  7811\n",
      "cyp3a4_inhib:  12328\n",
      "→  12319\n",
      "bace:  1513\n",
      "→  1513\n",
      "cyp2c9_inhib:  12092\n",
      "→  12083\n",
      "toxcast_M:  8577\n",
      "→  8558\n",
      "clintox_M:  1479\n",
      "→  1468\n",
      "ld50:  7385\n",
      "→  7385\n"
     ]
    }
   ],
   "source": [
    "csvs = os.listdir(\"../data/csv\")\n",
    "csvs = [csv.replace(\".csv\", \"\") for csv in csvs]\n",
    "os.makedirs(\"../data/tox_csv\")\n",
    "for csv in csvs:\n",
    "    df = pd.read_csv(f\"../data/csv/{csv}.csv\", index_col=0)\n",
    "    idx = latent_idx_dic[csv]\n",
    "    print(f\"{csv}: \", df.shape[0])\n",
    "    print(\"→ \", len(idx))\n",
    "    df = df.loc[idx]\n",
    "    df.to_csv(f\"../data/tox_csv/{csv}.csv\")"
   ]
  },
  {
   "cell_type": "markdown",
   "metadata": {},
   "source": [
    "## get Uni-Mol molecular representations"
   ]
  },
  {
   "cell_type": "code",
   "execution_count": 4,
   "metadata": {},
   "outputs": [
    {
     "name": "stderr",
     "output_type": "stream",
     "text": [
      "2025-01-23 23:24:05 | unimol_tools/models/unimol.py | 120 | INFO | Uni-Mol Tools | Loading pretrained weights from /opt/pip-env/lib/python3.12/site-packages/unimol_tools/weights/mol_pre_all_h_220816.pt\n",
      "2025-01-23 23:24:06 | unimol_tools/data/conformer.py | 126 | INFO | Uni-Mol Tools | Start generating conformers...\n",
      "1384it [00:22, 62.71it/s]\n",
      "2025-01-23 23:24:28 | unimol_tools/data/conformer.py | 135 | INFO | Uni-Mol Tools | Succeeded in generating conformers for 98.27% of molecules.\n",
      "2025-01-23 23:24:28 | unimol_tools/data/conformer.py | 138 | INFO | Uni-Mol Tools | Failed conformers indices: [48, 56, 122, 132, 135, 197, 205, 241, 406, 712, 718, 1034, 1268, 1282, 1322, 1323, 1324, 1325, 1326, 1331, 1333, 1334, 1335, 1336]\n",
      "2025-01-23 23:24:28 | unimol_tools/data/conformer.py | 142 | INFO | Uni-Mol Tools | Succeeded in generating 3d conformers for 96.39% of molecules.\n",
      "2025-01-23 23:24:28 | unimol_tools/data/conformer.py | 145 | INFO | Uni-Mol Tools | Failed 3d conformers indices: [13, 47, 48, 56, 122, 132, 134, 135, 140, 141, 144, 169, 183, 197, 205, 208, 241, 294, 295, 306, 406, 413, 675, 712, 718, 723, 1034, 1136, 1159, 1173, 1176, 1180, 1268, 1271, 1277, 1282, 1285, 1288, 1310, 1322, 1323, 1324, 1325, 1326, 1331, 1333, 1334, 1335, 1336, 1346]\n",
      "100%|██████████| 44/44 [00:05<00:00,  8.73it/s]\n"
     ]
    },
    {
     "name": "stdout",
     "output_type": "stream",
     "text": [
      "sider: (1384, 512)\n"
     ]
    },
    {
     "name": "stderr",
     "output_type": "stream",
     "text": [
      "2025-01-23 23:24:39 | unimol_tools/data/conformer.py | 126 | INFO | Uni-Mol Tools | Start generating conformers...\n",
      "13445it [05:14, 42.74it/s]\n",
      "2025-01-23 23:29:54 | unimol_tools/data/conformer.py | 135 | INFO | Uni-Mol Tools | Succeeded in generating conformers for 100.00% of molecules.\n",
      "2025-01-23 23:29:54 | unimol_tools/data/conformer.py | 142 | INFO | Uni-Mol Tools | Succeeded in generating 3d conformers for 99.42% of molecules.\n",
      "2025-01-23 23:29:54 | unimol_tools/data/conformer.py | 145 | INFO | Uni-Mol Tools | Failed 3d conformers indices: [320, 418, 472, 638, 798, 843, 1047, 1317, 1449, 1876, 1891, 2033, 2037, 2237, 2242, 2269, 2287, 2348, 2720, 2886, 3052, 3239, 3923, 4091, 4212, 4410, 4610, 4611, 4724, 4943, 4962, 5063, 5141, 5145, 5315, 5525, 5642, 5883, 6091, 6282, 6606, 6657, 6786, 6912, 7493, 7781, 7973, 8023, 8189, 8875, 8950, 8971, 9004, 9012, 9013, 9020, 9386, 9874, 9899, 10219, 10447, 10505, 10789, 11002, 11025, 11321, 11446, 11456, 11495, 11630, 11833, 11836, 12184, 12263, 12479, 12532, 12571, 12592]\n",
      "100%|██████████| 421/421 [00:19<00:00, 22.09it/s]\n"
     ]
    },
    {
     "name": "stdout",
     "output_type": "stream",
     "text": [
      "herg_karim: (13445, 512)\n"
     ]
    },
    {
     "name": "stderr",
     "output_type": "stream",
     "text": [
      "2025-01-23 23:30:16 | unimol_tools/data/conformer.py | 126 | INFO | Uni-Mol Tools | Start generating conformers...\n",
      "7811it [01:05, 118.48it/s]\n",
      "2025-01-23 23:31:22 | unimol_tools/data/conformer.py | 135 | INFO | Uni-Mol Tools | Succeeded in generating conformers for 99.81% of molecules.\n",
      "2025-01-23 23:31:22 | unimol_tools/data/conformer.py | 138 | INFO | Uni-Mol Tools | Failed conformers indices: [95, 255, 656, 1418, 1529, 1717, 2138, 2242, 2750, 4014, 4364, 4600, 5927, 6462, 6701]\n",
      "2025-01-23 23:31:22 | unimol_tools/data/conformer.py | 142 | INFO | Uni-Mol Tools | Succeeded in generating 3d conformers for 99.22% of molecules.\n",
      "2025-01-23 23:31:22 | unimol_tools/data/conformer.py | 145 | INFO | Uni-Mol Tools | Failed 3d conformers indices: [95, 114, 149, 217, 218, 255, 656, 948, 969, 981, 1061, 1212, 1226, 1418, 1529, 1577, 1592, 1717, 1926, 1949, 2138, 2242, 2289, 2493, 2524, 2725, 2750, 2822, 2933, 3234, 3438, 3501, 3785, 3996, 4014, 4273, 4292, 4364, 4481, 4600, 4797, 4858, 5234, 5285, 5595, 5703, 5794, 5904, 5927, 6139, 6228, 6462, 6497, 6701, 6703, 7041, 7302, 7349, 7388, 7479, 7611]\n",
      "100%|██████████| 245/245 [00:14<00:00, 17.36it/s]\n"
     ]
    },
    {
     "name": "stdout",
     "output_type": "stream",
     "text": [
      "tox21_M: (7811, 512)\n"
     ]
    },
    {
     "name": "stderr",
     "output_type": "stream",
     "text": [
      "2025-01-23 23:31:41 | unimol_tools/data/conformer.py | 126 | INFO | Uni-Mol Tools | Start generating conformers...\n",
      "12319it [03:54, 52.48it/s]\n",
      "2025-01-23 23:35:36 | unimol_tools/data/conformer.py | 135 | INFO | Uni-Mol Tools | Succeeded in generating conformers for 100.00% of molecules.\n",
      "2025-01-23 23:35:36 | unimol_tools/data/conformer.py | 142 | INFO | Uni-Mol Tools | Succeeded in generating 3d conformers for 99.23% of molecules.\n",
      "2025-01-23 23:35:36 | unimol_tools/data/conformer.py | 145 | INFO | Uni-Mol Tools | Failed 3d conformers indices: [3509, 3512, 3534, 3546, 3559, 3572, 3575, 3576, 3626, 3986, 3987, 4105, 4112, 4122, 4123, 4124, 4157, 4166, 4167, 4174, 4184, 4344, 4383, 4397, 4417, 4470, 4486, 4562, 4580, 4582, 4623, 4674, 4759, 4847, 4850, 4856, 5021, 5108, 5495, 5504, 5757, 5867, 5878, 5914, 5915, 5948, 5965, 6041, 6047, 6063, 6069, 6078, 6079, 6169, 6174, 6210, 6267, 6274, 6383, 6410, 6678, 6791, 6827, 8093, 12022, 12023, 12024, 12025, 12026, 12027, 12028, 12029, 12030, 12031, 12069, 12070, 12071, 12072, 12134, 12276, 12277, 12278, 12279, 12280, 12281, 12282, 12283, 12284, 12285, 12286, 12287, 12288, 12289, 12290, 12292]\n",
      "100%|██████████| 385/385 [00:15<00:00, 25.03it/s]\n"
     ]
    },
    {
     "name": "stdout",
     "output_type": "stream",
     "text": [
      "cyp3a4_inhib: (12319, 512)\n"
     ]
    },
    {
     "name": "stderr",
     "output_type": "stream",
     "text": [
      "2025-01-23 23:35:53 | unimol_tools/data/conformer.py | 126 | INFO | Uni-Mol Tools | Start generating conformers...\n",
      "1513it [00:24, 61.43it/s] \n",
      "2025-01-23 23:36:18 | unimol_tools/data/conformer.py | 135 | INFO | Uni-Mol Tools | Succeeded in generating conformers for 100.00% of molecules.\n",
      "2025-01-23 23:36:18 | unimol_tools/data/conformer.py | 142 | INFO | Uni-Mol Tools | Succeeded in generating 3d conformers for 100.00% of molecules.\n",
      "100%|██████████| 48/48 [00:02<00:00, 18.03it/s]\n"
     ]
    },
    {
     "name": "stdout",
     "output_type": "stream",
     "text": [
      "bace: (1513, 512)\n"
     ]
    },
    {
     "name": "stderr",
     "output_type": "stream",
     "text": [
      "2025-01-23 23:36:25 | unimol_tools/data/conformer.py | 126 | INFO | Uni-Mol Tools | Start generating conformers...\n",
      "12083it [04:19, 46.65it/s]\n",
      "2025-01-23 23:40:44 | unimol_tools/data/conformer.py | 135 | INFO | Uni-Mol Tools | Succeeded in generating conformers for 99.99% of molecules.\n",
      "2025-01-23 23:40:44 | unimol_tools/data/conformer.py | 138 | INFO | Uni-Mol Tools | Failed conformers indices: [5625]\n",
      "2025-01-23 23:40:44 | unimol_tools/data/conformer.py | 142 | INFO | Uni-Mol Tools | Succeeded in generating 3d conformers for 99.15% of molecules.\n",
      "2025-01-23 23:40:44 | unimol_tools/data/conformer.py | 145 | INFO | Uni-Mol Tools | Failed 3d conformers indices: [3603, 3606, 3632, 3645, 3657, 3672, 3675, 3676, 3725, 4077, 4078, 4079, 4190, 4197, 4208, 4209, 4210, 4246, 4254, 4255, 4272, 4423, 4465, 4477, 4498, 4550, 4565, 4639, 4658, 4661, 4703, 4748, 4841, 4938, 4941, 4947, 5116, 5206, 5611, 5623, 5625, 5686, 5920, 6038, 6051, 6089, 6090, 6120, 6138, 6222, 6226, 6242, 6250, 6261, 6262, 6297, 6317, 6347, 6351, 6389, 6447, 6451, 6456, 6564, 6602, 7022, 7064, 11725, 11726, 11727, 11728, 11729, 11730, 11731, 11732, 11733, 11734, 11735, 11781, 11784, 11785, 11786, 11787, 11788, 11789, 11790, 11853, 12038, 12039, 12040, 12041, 12042, 12043, 12044, 12045, 12046, 12047, 12048, 12049, 12050, 12051, 12053, 12069]\n",
      "100%|██████████| 378/378 [00:15<00:00, 24.48it/s]\n"
     ]
    },
    {
     "name": "stdout",
     "output_type": "stream",
     "text": [
      "cyp2c9_inhib: (12083, 512)\n"
     ]
    },
    {
     "name": "stderr",
     "output_type": "stream",
     "text": [
      "2025-01-23 23:41:03 | unimol_tools/data/conformer.py | 126 | INFO | Uni-Mol Tools | Start generating conformers...\n",
      "8558it [00:58, 147.40it/s]\n",
      "2025-01-23 23:42:01 | unimol_tools/data/conformer.py | 135 | INFO | Uni-Mol Tools | Succeeded in generating conformers for 99.89% of molecules.\n",
      "2025-01-23 23:42:01 | unimol_tools/data/conformer.py | 138 | INFO | Uni-Mol Tools | Failed conformers indices: [47, 93, 6986, 7002, 7129, 7154, 7177, 7221, 7232]\n",
      "2025-01-23 23:42:01 | unimol_tools/data/conformer.py | 142 | INFO | Uni-Mol Tools | Succeeded in generating 3d conformers for 99.18% of molecules.\n",
      "2025-01-23 23:42:01 | unimol_tools/data/conformer.py | 145 | INFO | Uni-Mol Tools | Failed 3d conformers indices: [22, 47, 93, 199, 220, 254, 695, 1538, 1546, 1555, 1774, 1794, 1841, 2004, 2032, 2101, 2157, 2668, 2891, 3066, 3186, 3462, 3653, 3957, 4094, 4141, 4647, 4651, 4903, 4904, 5243, 5278, 5297, 5343, 5472, 5580, 6046, 6369, 6552, 6795, 6981, 6984, 6986, 7002, 7020, 7049, 7110, 7112, 7126, 7128, 7129, 7154, 7157, 7158, 7161, 7177, 7184, 7218, 7219, 7221, 7228, 7232, 7260, 7266, 7269, 7531, 7568, 7617, 7787, 8500]\n",
      "100%|██████████| 268/268 [00:16<00:00, 16.22it/s]\n"
     ]
    },
    {
     "name": "stdout",
     "output_type": "stream",
     "text": [
      "toxcast_M: (8558, 512)\n"
     ]
    },
    {
     "name": "stderr",
     "output_type": "stream",
     "text": [
      "2025-01-23 23:42:19 | unimol_tools/data/conformer.py | 126 | INFO | Uni-Mol Tools | Start generating conformers...\n",
      "1468it [00:24, 60.58it/s]\n",
      "2025-01-23 23:42:43 | unimol_tools/data/conformer.py | 135 | INFO | Uni-Mol Tools | Succeeded in generating conformers for 99.93% of molecules.\n",
      "2025-01-23 23:42:43 | unimol_tools/data/conformer.py | 138 | INFO | Uni-Mol Tools | Failed conformers indices: [10]\n",
      "2025-01-23 23:42:43 | unimol_tools/data/conformer.py | 142 | INFO | Uni-Mol Tools | Succeeded in generating 3d conformers for 98.30% of molecules.\n",
      "2025-01-23 23:42:43 | unimol_tools/data/conformer.py | 145 | INFO | Uni-Mol Tools | Failed 3d conformers indices: [5, 10, 17, 18, 22, 395, 598, 701, 732, 734, 737, 738, 1229, 1233, 1291, 1293, 1335, 1337, 1338, 1339, 1458, 1459, 1464, 1465, 1467]\n",
      "100%|██████████| 46/46 [00:03<00:00, 14.04it/s]\n"
     ]
    },
    {
     "name": "stdout",
     "output_type": "stream",
     "text": [
      "clintox_M: (1468, 512)\n"
     ]
    },
    {
     "name": "stderr",
     "output_type": "stream",
     "text": [
      "2025-01-23 23:42:48 | unimol_tools/data/conformer.py | 126 | INFO | Uni-Mol Tools | Start generating conformers...\n",
      "7385it [00:25, 285.03it/s]\n",
      "2025-01-23 23:43:14 | unimol_tools/data/conformer.py | 135 | INFO | Uni-Mol Tools | Succeeded in generating conformers for 100.00% of molecules.\n",
      "2025-01-23 23:43:14 | unimol_tools/data/conformer.py | 142 | INFO | Uni-Mol Tools | Succeeded in generating 3d conformers for 99.91% of molecules.\n",
      "2025-01-23 23:43:14 | unimol_tools/data/conformer.py | 145 | INFO | Uni-Mol Tools | Failed 3d conformers indices: [1647, 1677, 3463, 3619, 5021, 5678, 6764]\n",
      "100%|██████████| 231/231 [00:09<00:00, 24.37it/s]\n"
     ]
    },
    {
     "name": "stdout",
     "output_type": "stream",
     "text": [
      "ld50: (7385, 512)\n"
     ]
    }
   ],
   "source": [
    "clf = unimol_tools.UniMolRepr(\"molecule\", remove_hs=False)\n",
    "os.makedirs(\"../data/unimol_repr\")\n",
    "for csv in csvs:\n",
    "    smis = pd.read_csv(f\"../data/tox_csv/{csv}.csv\", index_col=0)\n",
    "    smis = list(smis[\"cano_smi\"])\n",
    "    unimol_repr = clf.get_repr(smis, return_atomic_reprs=False)\n",
    "    unimol_repr = np.array(unimol_repr[\"cls_repr\"])\n",
    "    print(f\"{csv}:\", unimol_repr.shape)\n",
    "    np.save(f\"../data/unimol_repr/{csv}.npy\", unimol_repr)"
   ]
  },
  {
   "cell_type": "code",
   "execution_count": null,
   "metadata": {},
   "outputs": [],
   "source": []
  }
 ],
 "metadata": {
  "kernelspec": {
   "display_name": "pip-env",
   "language": "python",
   "name": "python3"
  },
  "language_info": {
   "codemirror_mode": {
    "name": "ipython",
    "version": 3
   },
   "file_extension": ".py",
   "mimetype": "text/x-python",
   "name": "python",
   "nbconvert_exporter": "python",
   "pygments_lexer": "ipython3",
   "version": "3.12.0"
  }
 },
 "nbformat": 4,
 "nbformat_minor": 2
}
